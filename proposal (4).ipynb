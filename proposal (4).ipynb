{
 "cells": [
  {
   "cell_type": "code",
   "execution_count": 1,
   "metadata": {},
   "outputs": [
    {
     "ename": "ERROR",
     "evalue": "Error in parse(text = x, srcfile = src): <text>:1:5: unexpected numeric constant\n1: Top 10\n        ^\n",
     "output_type": "error",
     "traceback": [
      "Error in parse(text = x, srcfile = src): <text>:1:5: unexpected numeric constant\n1: Top 10\n        ^\nTraceback:\n"
     ]
    }
   ],
   "source": [
    "Top 10 athletes who have the most potential to earn their career \n",
    "Group: 005-26 \n",
    "Group members: Rinky Manivannan, Prajith Ravisankar, Zhifan Wang\n",
    "\n",
    "Introduction \n",
    "\n",
    "\"Who's the best?\" is always the question.\n",
    "\n",
    "Picking the best tennis players with absolute justice is difficult. Because they come from different eras, everything from age, fitness, diet, medical conditions, to equipment, the surface of the court, and even the pressure the players face are constantly changing with the times.\n",
    "\n",
    "Under these multiple and complex conditions, we should pay more attention to the individual talents of players. The efforts of these players will bear fruit in long-term practice, persistence and success. Therefore, we decided to infer the top 10 athletes who had the most potential to earn their career by looking at the physical fitness of the top 101 (odd number as predictors for the training set) players in the dataset, including height, weight, and the number of medals in career success.\n",
    "\n",
    "We will be using player stats for the top 500 players, which is an excel database that contains player profiles, historical standings, results and match stats, favorite pitch, age, goat standing and more.\n",
    "\n",
    "Preliminary exploratory data analysis \n",
    "\n",
    "Since the available data set is provided in excel, the data set can be easily read into a jupyter notebook using the read_excel() function. The tibble of this data frame contains 38 observations X 500 variables to utilize. \n",
    "\n",
    "Since we aim to provide useful information about player standing based on height, and age, we intend to use age and height as predicting values. Only one observation in the age category is missing. There are only 115 values available from the height variable. \n",
    "\n",
    "Visualizing the plot for the distribution of the age and height, we found out that the age plot has different points scattered all around the time frame given, however, a significant chunk of the age were found near the late 20’s and early 30’s. Most of the height of these players were greater than 185 cm, and a smaller portion of the available data were found to be about 180 cm. And, very few outliers were less than 180 cm tall.  \n",
    "\n",
    "Methods \n",
    "\n",
    "In our project, the major predicting variables that we will utilize are Age and Height. All the observations under these variables will be utilized to train for the classification based on the k-nearest model. Since we are investigating the impact of two variables over a new observation, we base our analysis on scatter plots. The work will be directed towards centring and scaling of these values, and the scaled predicting observations will be utilized for plotting and summary analysis. Functions for color palettes and aesthetic alignment of legends will be taken care of to supplement the visual understanding. \n",
    "\n",
    "Expected outcomes and significance \n",
    "\n",
    "Since we, as a group, would be able to finalize the top 10 players based on the past data, this method would produce a useful prediction for players based on age and height. Since we are using the k-nearest model for predicting we would be able to produce a relevant finding given that we have a relatively large amount of observations present in the excel. Even though the height of many players are not included in the data set, we would be able to consider about half of the remaining observations and classify players, respectively. \n"
   ]
  },
  {
   "cell_type": "code",
   "execution_count": null,
   "metadata": {},
   "outputs": [],
   "source": []
  },
  {
   "cell_type": "code",
   "execution_count": 2,
   "metadata": {},
   "outputs": [
    {
     "name": "stderr",
     "output_type": "stream",
     "text": [
      "── \u001b[1mAttaching packages\u001b[22m ─────────────────────────────────────── tidyverse 1.3.0 ──\n",
      "\n",
      "\u001b[32m✔\u001b[39m \u001b[34mggplot2\u001b[39m 3.3.2     \u001b[32m✔\u001b[39m \u001b[34mpurrr  \u001b[39m 0.3.4\n",
      "\u001b[32m✔\u001b[39m \u001b[34mtibble \u001b[39m 3.0.3     \u001b[32m✔\u001b[39m \u001b[34mdplyr  \u001b[39m 1.0.2\n",
      "\u001b[32m✔\u001b[39m \u001b[34mtidyr  \u001b[39m 1.1.2     \u001b[32m✔\u001b[39m \u001b[34mstringr\u001b[39m 1.4.0\n",
      "\u001b[32m✔\u001b[39m \u001b[34mreadr  \u001b[39m 1.3.1     \u001b[32m✔\u001b[39m \u001b[34mforcats\u001b[39m 0.5.0\n",
      "\n",
      "Warning message:\n",
      "“package ‘ggplot2’ was built under R version 4.0.1”\n",
      "Warning message:\n",
      "“package ‘tibble’ was built under R version 4.0.2”\n",
      "Warning message:\n",
      "“package ‘tidyr’ was built under R version 4.0.2”\n",
      "Warning message:\n",
      "“package ‘dplyr’ was built under R version 4.0.2”\n",
      "── \u001b[1mConflicts\u001b[22m ────────────────────────────────────────── tidyverse_conflicts() ──\n",
      "\u001b[31m✖\u001b[39m \u001b[34mdplyr\u001b[39m::\u001b[32mfilter()\u001b[39m masks \u001b[34mstats\u001b[39m::filter()\n",
      "\u001b[31m✖\u001b[39m \u001b[34mdplyr\u001b[39m::\u001b[32mlag()\u001b[39m    masks \u001b[34mstats\u001b[39m::lag()\n",
      "\n"
     ]
    }
   ],
   "source": [
    "library(tidyverse)"
   ]
  },
  {
   "cell_type": "code",
   "execution_count": 3,
   "metadata": {},
   "outputs": [
    {
     "name": "stderr",
     "output_type": "stream",
     "text": [
      "Warning message:\n",
      "“Missing column names filled in: 'X1' [1]”\n",
      "Parsed with column specification:\n",
      "cols(\n",
      "  .default = col_character(),\n",
      "  X1 = \u001b[32mcol_double()\u001b[39m,\n",
      "  `Turned Pro` = \u001b[32mcol_double()\u001b[39m,\n",
      "  Seasons = \u001b[32mcol_double()\u001b[39m,\n",
      "  Titles = \u001b[32mcol_double()\u001b[39m,\n",
      "  `Best Season` = \u001b[32mcol_double()\u001b[39m,\n",
      "  Retired = \u001b[32mcol_double()\u001b[39m,\n",
      "  Masters = \u001b[32mcol_double()\u001b[39m,\n",
      "  `Grand Slams` = \u001b[32mcol_double()\u001b[39m,\n",
      "  `Davis Cups` = \u001b[32mcol_double()\u001b[39m,\n",
      "  `Team Cups` = \u001b[32mcol_double()\u001b[39m,\n",
      "  Olympics = \u001b[32mcol_double()\u001b[39m,\n",
      "  `Weeks at No. 1` = \u001b[32mcol_double()\u001b[39m,\n",
      "  `Tour Finals` = \u001b[32mcol_double()\u001b[39m\n",
      ")\n",
      "\n",
      "See spec(...) for full column specifications.\n",
      "\n"
     ]
    }
   ],
   "source": [
    "tennis_data <- read_csv(\"player_stats.csv\")"
   ]
  },
  {
   "cell_type": "code",
   "execution_count": 4,
   "metadata": {},
   "outputs": [
    {
     "data": {
      "text/html": [
       "<style>\n",
       ".list-inline {list-style: none; margin:0; padding: 0}\n",
       ".list-inline>li {display: inline-block}\n",
       ".list-inline>li:not(:last-child)::after {content: \"\\00b7\"; padding: 0 .5ex}\n",
       "</style>\n",
       "<ol class=list-inline><li>'X1'</li><li>'Age'</li><li>'Country'</li><li>'Plays'</li><li>'Wikipedia'</li><li>'Current Rank'</li><li>'Best Rank'</li><li>'Name'</li><li>'Backhand'</li><li>'Prize Money'</li><li>'Height'</li><li>'Favorite Surface'</li><li>'Turned Pro'</li><li>'Seasons'</li><li>'Active'</li><li>'Current Elo Rank'</li><li>'Best Elo Rank'</li><li>'Peak Elo Rating'</li><li>'Last Appearance'</li><li>'Titles'</li><li>'GOAT Rank'</li><li>'Best Season'</li><li>'Retired'</li><li>'Masters'</li><li>'Birthplace'</li><li>'Residence'</li><li>'Weight'</li><li>'Coach'</li><li>'Facebook'</li><li>'Twitter'</li><li>'Nicknames'</li><li>'Grand Slams'</li><li>'Davis Cups'</li><li>'Web Site'</li><li>'Team Cups'</li><li>'Olympics'</li><li>'Weeks at No. 1'</li><li>'Tour Finals'</li></ol>\n"
      ],
      "text/latex": [
       "\\begin{enumerate*}\n",
       "\\item 'X1'\n",
       "\\item 'Age'\n",
       "\\item 'Country'\n",
       "\\item 'Plays'\n",
       "\\item 'Wikipedia'\n",
       "\\item 'Current Rank'\n",
       "\\item 'Best Rank'\n",
       "\\item 'Name'\n",
       "\\item 'Backhand'\n",
       "\\item 'Prize Money'\n",
       "\\item 'Height'\n",
       "\\item 'Favorite Surface'\n",
       "\\item 'Turned Pro'\n",
       "\\item 'Seasons'\n",
       "\\item 'Active'\n",
       "\\item 'Current Elo Rank'\n",
       "\\item 'Best Elo Rank'\n",
       "\\item 'Peak Elo Rating'\n",
       "\\item 'Last Appearance'\n",
       "\\item 'Titles'\n",
       "\\item 'GOAT Rank'\n",
       "\\item 'Best Season'\n",
       "\\item 'Retired'\n",
       "\\item 'Masters'\n",
       "\\item 'Birthplace'\n",
       "\\item 'Residence'\n",
       "\\item 'Weight'\n",
       "\\item 'Coach'\n",
       "\\item 'Facebook'\n",
       "\\item 'Twitter'\n",
       "\\item 'Nicknames'\n",
       "\\item 'Grand Slams'\n",
       "\\item 'Davis Cups'\n",
       "\\item 'Web Site'\n",
       "\\item 'Team Cups'\n",
       "\\item 'Olympics'\n",
       "\\item 'Weeks at No. 1'\n",
       "\\item 'Tour Finals'\n",
       "\\end{enumerate*}\n"
      ],
      "text/markdown": [
       "1. 'X1'\n",
       "2. 'Age'\n",
       "3. 'Country'\n",
       "4. 'Plays'\n",
       "5. 'Wikipedia'\n",
       "6. 'Current Rank'\n",
       "7. 'Best Rank'\n",
       "8. 'Name'\n",
       "9. 'Backhand'\n",
       "10. 'Prize Money'\n",
       "11. 'Height'\n",
       "12. 'Favorite Surface'\n",
       "13. 'Turned Pro'\n",
       "14. 'Seasons'\n",
       "15. 'Active'\n",
       "16. 'Current Elo Rank'\n",
       "17. 'Best Elo Rank'\n",
       "18. 'Peak Elo Rating'\n",
       "19. 'Last Appearance'\n",
       "20. 'Titles'\n",
       "21. 'GOAT Rank'\n",
       "22. 'Best Season'\n",
       "23. 'Retired'\n",
       "24. 'Masters'\n",
       "25. 'Birthplace'\n",
       "26. 'Residence'\n",
       "27. 'Weight'\n",
       "28. 'Coach'\n",
       "29. 'Facebook'\n",
       "30. 'Twitter'\n",
       "31. 'Nicknames'\n",
       "32. 'Grand Slams'\n",
       "33. 'Davis Cups'\n",
       "34. 'Web Site'\n",
       "35. 'Team Cups'\n",
       "36. 'Olympics'\n",
       "37. 'Weeks at No. 1'\n",
       "38. 'Tour Finals'\n",
       "\n",
       "\n"
      ],
      "text/plain": [
       " [1] \"X1\"               \"Age\"              \"Country\"          \"Plays\"           \n",
       " [5] \"Wikipedia\"        \"Current Rank\"     \"Best Rank\"        \"Name\"            \n",
       " [9] \"Backhand\"         \"Prize Money\"      \"Height\"           \"Favorite Surface\"\n",
       "[13] \"Turned Pro\"       \"Seasons\"          \"Active\"           \"Current Elo Rank\"\n",
       "[17] \"Best Elo Rank\"    \"Peak Elo Rating\"  \"Last Appearance\"  \"Titles\"          \n",
       "[21] \"GOAT Rank\"        \"Best Season\"      \"Retired\"          \"Masters\"         \n",
       "[25] \"Birthplace\"       \"Residence\"        \"Weight\"           \"Coach\"           \n",
       "[29] \"Facebook\"         \"Twitter\"          \"Nicknames\"        \"Grand Slams\"     \n",
       "[33] \"Davis Cups\"       \"Web Site\"         \"Team Cups\"        \"Olympics\"        \n",
       "[37] \"Weeks at No. 1\"   \"Tour Finals\"     "
      ]
     },
     "metadata": {},
     "output_type": "display_data"
    }
   ],
   "source": [
    "names(tennis_data)"
   ]
  },
  {
   "cell_type": "code",
   "execution_count": 5,
   "metadata": {},
   "outputs": [],
   "source": [
    "filtered_data <- filter(tennis_data, !is.na(Age), !is.na(Age), !is.na(Height), !is.na('GOAT Rank'), !is.na('Prize Money'))"
   ]
  },
  {
   "cell_type": "code",
   "execution_count": 6,
   "metadata": {},
   "outputs": [],
   "source": [
    "# to predict if the new observation is in the goat standing based on their height, age (classification)\n",
    "# to predict how much a new observation will earn based on attributes such as age, height (regression)"
   ]
  },
  {
   "cell_type": "code",
   "execution_count": 7,
   "metadata": {},
   "outputs": [
    {
     "name": "stderr",
     "output_type": "stream",
     "text": [
      "Warning message:\n",
      "“package ‘tidymodels’ was built under R version 4.0.2”\n",
      "── \u001b[1mAttaching packages\u001b[22m ────────────────────────────────────── tidymodels 0.1.1 ──\n",
      "\n",
      "\u001b[32m✔\u001b[39m \u001b[34mbroom    \u001b[39m 0.7.0      \u001b[32m✔\u001b[39m \u001b[34mrecipes  \u001b[39m 0.1.13\n",
      "\u001b[32m✔\u001b[39m \u001b[34mdials    \u001b[39m 0.0.9      \u001b[32m✔\u001b[39m \u001b[34mrsample  \u001b[39m 0.0.7 \n",
      "\u001b[32m✔\u001b[39m \u001b[34minfer    \u001b[39m 0.5.4      \u001b[32m✔\u001b[39m \u001b[34mtune     \u001b[39m 0.1.1 \n",
      "\u001b[32m✔\u001b[39m \u001b[34mmodeldata\u001b[39m 0.0.2      \u001b[32m✔\u001b[39m \u001b[34mworkflows\u001b[39m 0.2.0 \n",
      "\u001b[32m✔\u001b[39m \u001b[34mparsnip  \u001b[39m 0.1.3      \u001b[32m✔\u001b[39m \u001b[34myardstick\u001b[39m 0.0.7 \n",
      "\n",
      "Warning message:\n",
      "“package ‘broom’ was built under R version 4.0.2”\n",
      "Warning message:\n",
      "“package ‘dials’ was built under R version 4.0.2”\n",
      "Warning message:\n",
      "“package ‘infer’ was built under R version 4.0.3”\n",
      "Warning message:\n",
      "“package ‘modeldata’ was built under R version 4.0.1”\n",
      "Warning message:\n",
      "“package ‘parsnip’ was built under R version 4.0.2”\n",
      "Warning message:\n",
      "“package ‘recipes’ was built under R version 4.0.1”\n",
      "Warning message:\n",
      "“package ‘tune’ was built under R version 4.0.2”\n",
      "Warning message:\n",
      "“package ‘workflows’ was built under R version 4.0.2”\n",
      "Warning message:\n",
      "“package ‘yardstick’ was built under R version 4.0.2”\n",
      "── \u001b[1mConflicts\u001b[22m ───────────────────────────────────────── tidymodels_conflicts() ──\n",
      "\u001b[31m✖\u001b[39m \u001b[34mscales\u001b[39m::\u001b[32mdiscard()\u001b[39m masks \u001b[34mpurrr\u001b[39m::discard()\n",
      "\u001b[31m✖\u001b[39m \u001b[34mdplyr\u001b[39m::\u001b[32mfilter()\u001b[39m   masks \u001b[34mstats\u001b[39m::filter()\n",
      "\u001b[31m✖\u001b[39m \u001b[34mrecipes\u001b[39m::\u001b[32mfixed()\u001b[39m  masks \u001b[34mstringr\u001b[39m::fixed()\n",
      "\u001b[31m✖\u001b[39m \u001b[34mdplyr\u001b[39m::\u001b[32mlag()\u001b[39m      masks \u001b[34mstats\u001b[39m::lag()\n",
      "\u001b[31m✖\u001b[39m \u001b[34myardstick\u001b[39m::\u001b[32mspec()\u001b[39m masks \u001b[34mreadr\u001b[39m::spec()\n",
      "\u001b[31m✖\u001b[39m \u001b[34mrecipes\u001b[39m::\u001b[32mstep()\u001b[39m   masks \u001b[34mstats\u001b[39m::step()\n",
      "\n"
     ]
    }
   ],
   "source": [
    "\n",
    "library(tidymodels)\n",
    "\n",
    "\n",
    "\n",
    "\n",
    "#data_plot <- new_data %>%\n",
    "#                ggplot(aes(x = Age, y = Height, color = goat_rank)) + \n",
    "#                geom_point() + \n",
    "#                labs(x = \"Age\", y = \"height (cm)\", color = \"\")\n",
    "\n",
    "\n",
    "\n",
    "# new_data\n",
    "\n",
    "#here for the classification problem we take the age and height as the predictor values goat_rank as the categorical class for the prediction \n",
    "# first we visualize how the data is spread and use k model for classification and prediction \n",
    "\n",
    "#unscaled <- new_data %>%\n",
    "#                mutate(goat_rank = as_factor(goat_rank)) %>%\n",
    "#                select(Age, Height, goat_rank)\n",
    "\n",
    "#unscaled\n",
    "\n",
    "\n",
    "\n",
    "# the knn model creation \n",
    "\n",
    "#knn_spec <- nearest_neighbor(weight_func = \"rectangular\", neighbors = 5) %>%\n",
    "#                 set_engine(\"kknn\") %>%\n",
    "#                  set_mode(\"classification\")\n",
    "\n",
    "# centering and scaling for improving the prediction\n",
    "\n",
    "#scaled_centered_data <- recipe(goat_rank ~ Age + Height, data = unscaled) \n",
    "\n",
    "#scaled_fit <- workflow() %>%\n",
    "#                  add_recipe(scaled_centered_data) %>%\n",
    "#                  add_model(knn_spec) %>%\n",
    "#                  fit(data = unscaled)\n",
    "#scaled_fit\n",
    "\n",
    "\n"
   ]
  },
  {
   "cell_type": "code",
   "execution_count": 9,
   "metadata": {},
   "outputs": [
    {
     "data": {
      "image/png": "[encoded data removed]",
      "text/plain": [
       "plot without title"
      ]
     },
     "metadata": {
      "image/png": {
       "height": 420,
       "width": 420
      }
     },
     "output_type": "display_data"
    }
   ],
   "source": [
    "selected_data <- filtered_data %>%\n",
    "                    select(Name, Plays, Age, Height, 'GOAT Rank', 'Turned Pro', 'Best Rank') %>%\n",
    "                    rename(best_rank = 'Best Rank', \n",
    "                          goat_rank = 'GOAT Rank')\n",
    "\n",
    "\n",
    "new_data_0 <- na.omit(selected_data)\n",
    "\n",
    "new_data_1 <- new_data_0 %>%\n",
    "            mutate(Height = as.numeric(gsub(\"cm\", \"\", Height)), \n",
    "                    best_rank = as.numeric(gsub(\"\\\\(.*\\\\)\", \"\", best_rank)), \n",
    "                    goat_rank = as.numeric(gsub(\"\\\\(.*\\\\)\", \"\", goat_rank)), \n",
    "                    Age = as.numeric(gsub(\"\\\\(.*\\\\)\", \"\", Age)))\n",
    "\n",
    "#new_data_1\n",
    "\n",
    "new_data_2 <- arrange(new_data_1, Age, best_rank)\n",
    "\n",
    "#new_data_2\n",
    "\n",
    "plot1 <-  ggplot(new_data_1, aes(x = best_rank, y = goat_rank, color = Plays)) +\n",
    "                geom_point() +\n",
    "                labs(x = \"Best rank of the player\", y = \"Goat Rank all time\", color = \"Left hand vs Right hand play style\") + \n",
    "                theme(text = element_text(size = 12))\n",
    "\n",
    "plot1"
   ]
  },
  {
   "cell_type": "code",
   "execution_count": null,
   "metadata": {},
   "outputs": [],
   "source": []
  }
 ],
 "metadata": {
  "kernelspec": {
   "display_name": "R",
   "language": "R",
   "name": "ir"
  },
  "language_info": {
   "codemirror_mode": "r",
   "file_extension": ".r",
   "mimetype": "text/x-r-source",
   "name": "R",
   "pygments_lexer": "r",
   "version": "4.0.0"
  }
 },
 "nbformat": 4,
 "nbformat_minor": 4
}
